{
  "nbformat": 4,
  "nbformat_minor": 0,
  "metadata": {
    "colab": {
      "name": "Untitled0.ipynb",
      "provenance": [],
      "authorship_tag": "ABX9TyPnAkVtNTLt1DkU/PDnj7vL",
      "include_colab_link": true
    },
    "kernelspec": {
      "name": "python3",
      "display_name": "Python 3"
    },
    "language_info": {
      "name": "python"
    }
  },
  "cells": [
    {
      "cell_type": "markdown",
      "metadata": {
        "id": "view-in-github",
        "colab_type": "text"
      },
      "source": [
        "<a href=\"https://colab.research.google.com/github/jvicmaina/Angular-AlbumStoreProductPage/blob/master/Untitled0.ipynb\" target=\"_parent\"><img src=\"https://colab.research.google.com/assets/colab-badge.svg\" alt=\"Open In Colab\"/></a>"
      ]
    },
    {
      "cell_type": "code",
      "metadata": {
        "id": "sGeFxzYkxj2G"
      },
      "source": [
        "import os\n",
        "import pandas as pd\n",
        "import numpy as np\n",
        "import seaborn as sns\n",
        "import matplotlib.pyplot as plt\n",
        "%matplotlib inline\n",
        "import pandas_profiling\n",
        "import re \n",
        "from sklearn import linear_model\n",
        "\n",
        "\n",
        "\n",
        "#pd.set_option(\"display.max.columns\", None)\n",
        "#pd.set_option('display.max_rows', None)\n",
        "\n",
        "#pd.set_option('display.width', None)"
      ],
      "execution_count": 1,
      "outputs": []
    }
  ]
}